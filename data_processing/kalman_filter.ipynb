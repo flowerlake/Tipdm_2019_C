{
 "cells": [
  {
   "cell_type": "code",
   "execution_count": 1,
   "metadata": {},
   "outputs": [],
   "source": [
    "import pandas as pd\n",
    "import numpy as np\n",
    "import os,seaborn\n",
    "from pandas import Series\n",
    "\n",
    "from os.path import join, getsize\n",
    "\n",
    "%matplotlib inline\n",
    "import matplotlib.pyplot as plt\n",
    "\n",
    "import sys"
   ]
  },
  {
   "cell_type": "code",
   "execution_count": 116,
   "metadata": {},
   "outputs": [],
   "source": [
    "from pykalman import KalmanFilter\n",
    "\n",
    "kf = KalmanFilter(transition_matrices = [[1, 1], [0, 1]], observation_matrices = [[0.1, 0.5], [-0.3, 0.0]])\n",
    "measurements = np.asarray([[1,0], [0,0], [0,1]])  # 3 observations\n",
    "kf = kf.em(measurements, n_iter=5)\n",
    "(filtered_state_means, filtered_state_covariances) = kf.filter(measurements)\n",
    "(smoothed_state_means, smoothed_state_covariances) = kf.smooth(measurements)"
   ]
  },
  {
   "cell_type": "code",
   "execution_count": 117,
   "metadata": {},
   "outputs": [
    {
     "data": {
      "text/plain": [
       "array([[ -44.95439637,   36.26317577],\n",
       "       [-104.86359192,   82.54726546],\n",
       "       [-118.57121949,  107.68371762],\n",
       "       [-117.31876432,  120.61972265],\n",
       "       [-112.83730577,  126.96139765],\n",
       "       [-108.85404218,  129.92339644],\n",
       "       [-106.1207367 ,  131.23513052],\n",
       "       [-104.46287034,  131.77940815],\n",
       "       [-103.53351538,  131.98577125],\n",
       "       [-103.04303741,  132.05355691],\n",
       "       [-102.79758855,  132.0708698 ],\n",
       "       [-102.68077061,  132.07505358],\n",
       "       [-102.62617995,  132.08216217],\n",
       "       [-102.59390721,  132.10072487],\n",
       "       [-102.55117296,  132.13741694],\n",
       "       [-102.45219929,  132.19712839],\n",
       "       [-102.20931461,  132.27525195],\n",
       "       [-101.64337295,  132.33325926],\n",
       "       [-100.39610333,  132.2360337 ],\n",
       "       [ -97.78174681,  131.60468708],\n",
       "       [ -92.55833061,  129.49119801],\n",
       "       [ -82.63274055,  123.69476439],\n",
       "       [ -64.83846448,  109.3924808 ],\n",
       "       [ -35.27948737,   76.53009653],\n",
       "       [ -64.48215143,   88.70417068],\n",
       "       [ -54.50594619,   76.78427176],\n",
       "       [ -95.33134171,  113.0013935 ],\n",
       "       [ -94.48754308,  139.70406285],\n",
       "       [ -61.84994193,  162.6368657 ],\n",
       "       [  20.02884949,  181.40741425]])"
      ]
     },
     "execution_count": 117,
     "metadata": {},
     "output_type": "execute_result"
    }
   ],
   "source": [
    "smoothed_states_missing"
   ]
  },
  {
   "cell_type": "code",
   "execution_count": 12,
   "metadata": {},
   "outputs": [],
   "source": [
    "# 将四项转换为数组形式\n",
    "vehicle = pd.read_csv(\"../data/attachment_1_100/AA00004.csv\")\n",
    "\n",
    "lng_lat_time_speed = vehicle[[\"lng\",\"lat\",\"location_time\",\"gps_speed\"]].values"
   ]
  },
  {
   "cell_type": "code",
   "execution_count": 153,
   "metadata": {
    "collapsed": true
   },
   "outputs": [
    {
     "name": "stderr",
     "output_type": "stream",
     "text": [
      "D:\\ProgramData\\Anaconda3\\lib\\site-packages\\pandas\\core\\internals.py:940: UserWarning: Warning: converting a masked element to nan.\n",
      "  values[indexer] = value\n",
      "D:\\ProgramData\\Anaconda3\\lib\\site-packages\\pandas\\core\\internals.py:940: UserWarning: Warning: converting a masked element to nan.\n",
      "  values[indexer] = value\n",
      "D:\\ProgramData\\Anaconda3\\lib\\site-packages\\pandas\\core\\internals.py:940: UserWarning: Warning: converting a masked element to nan.\n",
      "  values[indexer] = value\n",
      "D:\\ProgramData\\Anaconda3\\lib\\site-packages\\pandas\\core\\internals.py:940: UserWarning: Warning: converting a masked element to nan.\n",
      "  values[indexer] = value\n",
      "D:\\ProgramData\\Anaconda3\\lib\\site-packages\\pandas\\core\\internals.py:940: UserWarning: Warning: converting a masked element to nan.\n",
      "  values[indexer] = value\n",
      "D:\\ProgramData\\Anaconda3\\lib\\site-packages\\pandas\\core\\internals.py:940: UserWarning: Warning: converting a masked element to nan.\n",
      "  values[indexer] = value\n",
      "D:\\ProgramData\\Anaconda3\\lib\\site-packages\\pandas\\core\\internals.py:940: UserWarning: Warning: converting a masked element to nan.\n",
      "  values[indexer] = value\n",
      "D:\\ProgramData\\Anaconda3\\lib\\site-packages\\pandas\\core\\internals.py:940: UserWarning: Warning: converting a masked element to nan.\n",
      "  values[indexer] = value\n",
      "D:\\ProgramData\\Anaconda3\\lib\\site-packages\\pandas\\core\\internals.py:940: UserWarning: Warning: converting a masked element to nan.\n",
      "  values[indexer] = value\n",
      "D:\\ProgramData\\Anaconda3\\lib\\site-packages\\pandas\\core\\internals.py:940: UserWarning: Warning: converting a masked element to nan.\n",
      "  values[indexer] = value\n",
      "D:\\ProgramData\\Anaconda3\\lib\\site-packages\\pandas\\core\\internals.py:940: UserWarning: Warning: converting a masked element to nan.\n",
      "  values[indexer] = value\n",
      "D:\\ProgramData\\Anaconda3\\lib\\site-packages\\pandas\\core\\internals.py:940: UserWarning: Warning: converting a masked element to nan.\n",
      "  values[indexer] = value\n",
      "D:\\ProgramData\\Anaconda3\\lib\\site-packages\\pandas\\core\\internals.py:940: UserWarning: Warning: converting a masked element to nan.\n",
      "  values[indexer] = value\n",
      "D:\\ProgramData\\Anaconda3\\lib\\site-packages\\pandas\\core\\internals.py:940: UserWarning: Warning: converting a masked element to nan.\n",
      "  values[indexer] = value\n",
      "D:\\ProgramData\\Anaconda3\\lib\\site-packages\\pandas\\core\\internals.py:940: UserWarning: Warning: converting a masked element to nan.\n",
      "  values[indexer] = value\n",
      "D:\\ProgramData\\Anaconda3\\lib\\site-packages\\pandas\\core\\internals.py:940: UserWarning: Warning: converting a masked element to nan.\n",
      "  values[indexer] = value\n",
      "D:\\ProgramData\\Anaconda3\\lib\\site-packages\\pandas\\core\\internals.py:940: UserWarning: Warning: converting a masked element to nan.\n",
      "  values[indexer] = value\n",
      "D:\\ProgramData\\Anaconda3\\lib\\site-packages\\pandas\\core\\internals.py:940: UserWarning: Warning: converting a masked element to nan.\n",
      "  values[indexer] = value\n",
      "D:\\ProgramData\\Anaconda3\\lib\\site-packages\\pandas\\core\\internals.py:940: UserWarning: Warning: converting a masked element to nan.\n",
      "  values[indexer] = value\n",
      "D:\\ProgramData\\Anaconda3\\lib\\site-packages\\pandas\\core\\internals.py:940: UserWarning: Warning: converting a masked element to nan.\n",
      "  values[indexer] = value\n",
      "D:\\ProgramData\\Anaconda3\\lib\\site-packages\\pandas\\core\\internals.py:940: UserWarning: Warning: converting a masked element to nan.\n",
      "  values[indexer] = value\n",
      "D:\\ProgramData\\Anaconda3\\lib\\site-packages\\pandas\\core\\internals.py:940: UserWarning: Warning: converting a masked element to nan.\n",
      "  values[indexer] = value\n",
      "D:\\ProgramData\\Anaconda3\\lib\\site-packages\\pandas\\core\\internals.py:940: UserWarning: Warning: converting a masked element to nan.\n",
      "  values[indexer] = value\n",
      "D:\\ProgramData\\Anaconda3\\lib\\site-packages\\pandas\\core\\internals.py:940: UserWarning: Warning: converting a masked element to nan.\n",
      "  values[indexer] = value\n",
      "D:\\ProgramData\\Anaconda3\\lib\\site-packages\\pandas\\core\\internals.py:940: UserWarning: Warning: converting a masked element to nan.\n",
      "  values[indexer] = value\n",
      "D:\\ProgramData\\Anaconda3\\lib\\site-packages\\pandas\\core\\internals.py:940: UserWarning: Warning: converting a masked element to nan.\n",
      "  values[indexer] = value\n",
      "D:\\ProgramData\\Anaconda3\\lib\\site-packages\\pandas\\core\\internals.py:940: UserWarning: Warning: converting a masked element to nan.\n",
      "  values[indexer] = value\n",
      "D:\\ProgramData\\Anaconda3\\lib\\site-packages\\pandas\\core\\internals.py:940: UserWarning: Warning: converting a masked element to nan.\n",
      "  values[indexer] = value\n",
      "D:\\ProgramData\\Anaconda3\\lib\\site-packages\\pandas\\core\\internals.py:940: UserWarning: Warning: converting a masked element to nan.\n",
      "  values[indexer] = value\n",
      "D:\\ProgramData\\Anaconda3\\lib\\site-packages\\pandas\\core\\internals.py:940: UserWarning: Warning: converting a masked element to nan.\n",
      "  values[indexer] = value\n",
      "D:\\ProgramData\\Anaconda3\\lib\\site-packages\\pandas\\core\\internals.py:940: UserWarning: Warning: converting a masked element to nan.\n",
      "  values[indexer] = value\n",
      "D:\\ProgramData\\Anaconda3\\lib\\site-packages\\pandas\\core\\internals.py:940: UserWarning: Warning: converting a masked element to nan.\n",
      "  values[indexer] = value\n",
      "D:\\ProgramData\\Anaconda3\\lib\\site-packages\\pandas\\core\\internals.py:940: UserWarning: Warning: converting a masked element to nan.\n",
      "  values[indexer] = value\n"
     ]
    }
   ],
   "source": [
    "for i in index:\n",
    "    res.loc[i] = np.ma.masked"
   ]
  },
  {
   "cell_type": "code",
   "execution_count": 105,
   "metadata": {},
   "outputs": [],
   "source": [
    "vehicle = pd.read_csv(\"../data/attachment_1_100/AA00004.csv\")\n",
    "# 将其中的四项转化为 narray\n",
    "# lng_lat_time_speed = vehicle[[\"lng\",\"lat\",\"location_time\",\"gps_speed\"]].values\n",
    "\n",
    "vehicle['location_time'] = pd.to_datetime(vehicle['location_time'])\n",
    "\n",
    "grouper = pd.Grouper(key='location_time', freq='1s')\n",
    "\n",
    "res = vehicle.groupby(grouper).first().reset_index()\n",
    "res.to_csv(\"test.csv\")"
   ]
  },
  {
   "cell_type": "markdown",
   "metadata": {},
   "source": [
    "## 将路线分段"
   ]
  },
  {
   "cell_type": "code",
   "execution_count": 142,
   "metadata": {},
   "outputs": [
    {
     "name": "stdout",
     "output_type": "stream",
     "text": [
      "../data/attachment_1_100/AA00001.csv\t../data/attachment_1_100/AA00004.csv\t../data/attachment_1_100/AA00052.csv\n"
     ]
    }
   ],
   "source": [
    "# 获取附件一中的所有文件路径\n",
    "filepath = np.array([])\n",
    "for root, dirs, files in os.walk('../data/attachment_1_100/'):\n",
    "    filepath = np.concatenate((filepath,np.array([join(root, name) for name in files])))\n",
    "print(\"\\t\".join(filepath[:3]))"
   ]
  },
  {
   "cell_type": "code",
   "execution_count": 143,
   "metadata": {},
   "outputs": [
    {
     "name": "stdout",
     "output_type": "stream",
     "text": [
      "[5030, 9144, 10200, 17310, 17514, 27140, 28772, 30108, 40924, 40970, 40985, 41900, 51359, 51778]\n"
     ]
    }
   ],
   "source": [
    "# 加载数据\n",
    "\n",
    "j = 1\n",
    "vehicle = pd.read_csv(filepath[j])\n",
    "\n",
    "vehicle['location_time'] = pd.to_datetime(vehicle['location_time'])\n",
    "\n",
    "# 计算时间戳的间隔\n",
    "time_diff = np.diff(vehicle[\"location_time\"])/np.timedelta64(1, 's')\n",
    "time_diff = np.append(time_diff,0)\n",
    "\n",
    "vehicle['time_diff'] = time_diff \n",
    "\n",
    "# 筛选出时间戳间隔大于5min的索引项\n",
    "big_diff = (vehicle[vehicle['time_diff']>300].index + 1).tolist()\n",
    "\n",
    "print(big_diff)"
   ]
  },
  {
   "cell_type": "code",
   "execution_count": 145,
   "metadata": {},
   "outputs": [],
   "source": [
    "# 根据索引项将数据文件分段\n",
    "filename = filepath[j].split(\"/\")[-1].split(\".\")[0]\n",
    "\n",
    "vehicle[:big_diff[0]].to_csv(\"data/process_file/\" + filename + \"_0.csv\")\n",
    "\n",
    "for i in range(len(big_diff)-1):\n",
    "    vehicle[big_diff[i]:big_diff[i+1]].to_csv(\"data/process_file/\"+ filename + \"_\" + str(i+1) +\".csv\")\n",
    "vehicle[big_diff[-1]:].to_csv(\"data/process_file/\" + filename + \"_\"+ str(len(big_diff)) +\".csv\")"
   ]
  },
  {
   "cell_type": "markdown",
   "metadata": {},
   "source": [
    "- - - "
   ]
  },
  {
   "cell_type": "markdown",
   "metadata": {},
   "source": [
    "## 将路线分段后开始补点"
   ]
  },
  {
   "cell_type": "code",
   "execution_count": 77,
   "metadata": {},
   "outputs": [],
   "source": [
    "part_vehicle = pd.read_csv(\"data/process_file/AA00004_0.csv\")\n",
    "part_vehicle['location_time'] = pd.to_datetime(part_vehicle['location_time'])\n",
    "\n",
    "grouper = pd.Grouper(key='location_time', freq='1s')\n",
    "\n",
    "\n",
    "# res为补完点后的dataframe\n",
    "res = part_vehicle.groupby(grouper).first().reset_index()"
   ]
  },
  {
   "cell_type": "markdown",
   "metadata": {},
   "source": [
    " - - -"
   ]
  },
  {
   "cell_type": "markdown",
   "metadata": {},
   "source": [
    "## 尝试使用均值进行填充缺失值"
   ]
  },
  {
   "cell_type": "code",
   "execution_count": 102,
   "metadata": {},
   "outputs": [
    {
     "name": "stdout",
     "output_type": "stream",
     "text": [
      "[]\n"
     ]
    }
   ],
   "source": [
    "lng_lat = res[[\"lng\",\"lat\"]].values\n",
    "isnull_state = np.isnan(lng_lat)\n",
    "nan_index = np.array(sorted(list(set(np.where(isnull_state)[0]))))\n",
    "\n",
    "for i in nan_index:\n",
    "    if np.isnan(lng_lat[i+1])[0]:\n",
    "        lng_lat[i] = lng_lat[i-1]\n",
    "#         print(\"{}|isnan：{}\".format(lng_lat[i],i))\n",
    "    else:\n",
    "        lng_lat[i] = np.mean([lng_lat[i-1],lng_lat[i+1]],axis=0)\n",
    "#         print(\"{}|nonenan：{}\".format(lng_lat[i],i))\n",
    "        \n",
    "isnull_state = np.isnan(lng_lat)\n",
    "nan_index = np.array(list(set(np.where(isnull_state)[0])))\n",
    "\n",
    "print(nan_index)"
   ]
  },
  {
   "cell_type": "markdown",
   "metadata": {},
   "source": [
    "## 尝试使用kalman算法进行补点及光滑线路"
   ]
  },
  {
   "cell_type": "code",
   "execution_count": 151,
   "metadata": {
    "scrolled": true
   },
   "outputs": [],
   "source": [
    "lng_lat = res[[\"lng\",\"lat\"]].values[:30]"
   ]
  },
  {
   "cell_type": "code",
   "execution_count": 152,
   "metadata": {},
   "outputs": [],
   "source": [
    "isnull_state = np.isnan(lng_lat)\n",
    "nan_index = np.array(list(set(np.where(isnull_state)[0])))\n",
    "for i in nan_index:\n",
    "    lng_lat[i] = np.ma.masked"
   ]
  },
  {
   "cell_type": "code",
   "execution_count": 153,
   "metadata": {},
   "outputs": [],
   "source": [
    "from pykalman import KalmanFilter\n",
    "\n",
    "random_state = np.random.RandomState(0)\n",
    "transition_matrix = [[1, 0.1], [0, 1]]\n",
    "transition_offset = [-0.1, 0.1]\n",
    "observation_matrix = np.eye(2) + random_state.randn(2, 2) * 0.1\n",
    "observation_offset = [1.0, -1.0]\n",
    "initial_state_mean = [5, -5]\n",
    "n_timesteps = 50\n",
    "\n",
    "# sample from model\n",
    "kf = KalmanFilter(\n",
    "    transition_matrices=transition_matrix,\n",
    "    observation_matrices=observation_matrix,\n",
    "    transition_offsets=transition_offset,\n",
    "    observation_offsets=observation_offset,\n",
    "    initial_state_mean=initial_state_mean,\n",
    "    random_state=0\n",
    ")\n",
    "\n",
    "# smoothed_states_all = kf.smooth(observations_all)[0]\n",
    "\n",
    "smoothed_states_missing = kf.em(lng_lat).smooth(lng_lat)[0]"
   ]
  },
  {
   "cell_type": "code",
   "execution_count": 154,
   "metadata": {},
   "outputs": [
    {
     "data": {
      "text/plain": [
       "array([[67.49848539, 11.8022052 ],\n",
       "       [74.71734564, 12.91606048],\n",
       "       [79.23828917, 13.62617938],\n",
       "       [82.15722964, 14.0868974 ],\n",
       "       [84.0566327 , 14.38708203],\n",
       "       [85.29399245, 14.58270254],\n",
       "       [86.09849957, 14.70992196],\n",
       "       [86.61877042, 14.79221458],\n",
       "       [86.95078641, 14.84470966],\n",
       "       [87.1553521 , 14.87704412],\n",
       "       [87.27008497, 14.89517129],\n",
       "       [87.31614546, 14.90242649],\n",
       "       [87.3019688 , 14.90014157],\n",
       "       [87.22493648, 14.88789506],\n",
       "       [87.07086206, 14.86343171],\n",
       "       [86.81137338, 14.82224673],\n",
       "       [86.39868731, 14.7567563 ],\n",
       "       [85.75681197, 14.65490166],\n",
       "       [84.76756168, 14.4979325 ],\n",
       "       [83.24881341, 14.25692067],\n",
       "       [80.92056125, 13.88736137],\n",
       "       [77.35259217, 13.32052156],\n",
       "       [71.87931373, 12.44804232],\n",
       "       [63.44267937, 11.08596488],\n",
       "       [65.24309814, 11.39524875],\n",
       "       [63.2133182 , 11.05348188],\n",
       "       [71.4485275 , 12.3870502 ],\n",
       "       [77.06396544, 13.27978857],\n",
       "       [80.78516853, 13.8659206 ],\n",
       "       [83.20587448, 14.23020261]])"
      ]
     },
     "execution_count": 154,
     "metadata": {},
     "output_type": "execute_result"
    }
   ],
   "source": [
    "smoothed_states_missing"
   ]
  },
  {
   "cell_type": "code",
   "execution_count": 62,
   "metadata": {},
   "outputs": [
    {
     "data": {
      "image/png": "[encoded data removed]",
      "text/plain": [
       "<Figure size 720x360 with 1 Axes>"
      ]
     },
     "metadata": {},
     "output_type": "display_data"
    }
   ],
   "source": [
    "lng = [i[0] for i in lng_lat]\n",
    "lat = [i[1] for i in lng_lat]\n",
    "\n",
    "# Set the global default size of matplotlib figures\n",
    "plt.rc('figure', figsize=(10, 5))\n",
    "\n",
    "# Set seaborn aesthetic parameters to defaults\n",
    "seaborn.set()\n",
    "# plt.scatter(range(len(direction_angle_diff)),[item[0] for item in direction_angle_diff])\n",
    "plt.scatter(lng,lat)\n",
    "plt.ylabel(\"diff\")\n",
    "plt.xlabel(\"No.\")\n",
    "# plt.savefig(\"../image/direction_speed_diff/2\" + filepath[j].split(\"/\")[-1].split(\".\")[0] + \".jpg\")\n",
    "plt.show()"
   ]
  }
 ],
 "metadata": {
  "kernelspec": {
   "display_name": "Python 3",
   "language": "python",
   "name": "python3"
  },
  "language_info": {
   "codemirror_mode": {
    "name": "ipython",
    "version": 3
   },
   "file_extension": ".py",
   "mimetype": "text/x-python",
   "name": "python",
   "nbconvert_exporter": "python",
   "pygments_lexer": "ipython3",
   "version": "3.7.1"
  }
 },
 "nbformat": 4,
 "nbformat_minor": 2
}
