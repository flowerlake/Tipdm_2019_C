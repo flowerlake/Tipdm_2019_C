{
 "cells": [
  {
   "cell_type": "code",
   "execution_count": 1,
   "metadata": {},
   "outputs": [],
   "source": [
    "import pandas as pd\n",
    "import numpy as np\n",
    "import os,seaborn\n",
    "\n",
    "from os.path import join, getsize\n",
    "\n",
    "%matplotlib inline\n",
    "import matplotlib.pyplot as plt"
   ]
  },
  {
   "cell_type": "markdown",
   "metadata": {},
   "source": [
    "### Setting Global Parameters"
   ]
  },
  {
   "cell_type": "code",
   "execution_count": 4,
   "metadata": {},
   "outputs": [
    {
     "name": "stdout",
     "output_type": "stream",
     "text": [
      "../data/attachment_1_100/AA00001.csv\t../data/attachment_1_100/AA00004.csv\t../data/attachment_1_100/AA00052.csv\n"
     ]
    }
   ],
   "source": [
    "# Set the global default size of matplotlib figures\n",
    "plt.rc('figure', figsize=(10, 5))\n",
    "\n",
    "# Set seaborn aesthetic parameters to defaults\n",
    "seaborn.set()\n",
    "\n",
    "\n",
    "# 获取附件一中的所有文件路径\n",
    "filepath = np.array([])\n",
    "for root, dirs, files in os.walk('../data/attachment_1_100/'):\n",
    "    filepath = np.concatenate((filepath,np.array([join(root, name) for name in files])))\n",
    "print(\"\\t\".join(filepath[:3]))\n",
    "\n",
    "# load data\n",
    "each_vehicle = pd.read_csv(filepath[1])"
   ]
  },
  {
   "cell_type": "markdown",
   "metadata": {},
   "source": [
    "### draw simple scatter plot"
   ]
  },
  {
   "cell_type": "code",
   "execution_count": 11,
   "metadata": {},
   "outputs": [
    {
     "data": {
      "image/png": "[encoded data removed]",
      "text/plain": [
       "<Figure size 720x360 with 1 Axes>"
      ]
     },
     "metadata": {},
     "output_type": "display_data"
    }
   ],
   "source": [
    "plt.scatter(each_vehicle[\"lng\"],each_vehicle[\"lat\"])\n",
    "plt.legend(loc=\"best\")\n",
    "\n",
    "plt.title(\"vehicle route gps coordinate scatter\")\n",
    "plt.xlabel(\"longitude\")\n",
    "plt.ylabel(\"latitude\")\n",
    "plt.show()"
   ]
  },
  {
   "cell_type": "code",
   "execution_count": 7,
   "metadata": {},
   "outputs": [
    {
     "data": {
      "text/html": [
       "<div>\n",
       "<style scoped>\n",
       "    .dataframe tbody tr th:only-of-type {\n",
       "        vertical-align: middle;\n",
       "    }\n",
       "\n",
       "    .dataframe tbody tr th {\n",
       "        vertical-align: top;\n",
       "    }\n",
       "\n",
       "    .dataframe thead th {\n",
       "        text-align: right;\n",
       "    }\n",
       "</style>\n",
       "<table border=\"1\" class=\"dataframe\">\n",
       "  <thead>\n",
       "    <tr style=\"text-align: right;\">\n",
       "      <th></th>\n",
       "      <th>vehicleplatenumber</th>\n",
       "      <th>device_num</th>\n",
       "      <th>direction_angle</th>\n",
       "      <th>lng</th>\n",
       "      <th>lat</th>\n",
       "      <th>acc_state</th>\n",
       "      <th>right_turn_signals</th>\n",
       "      <th>left_turn_signals</th>\n",
       "      <th>hand_brake</th>\n",
       "      <th>foot_brake</th>\n",
       "      <th>location_time</th>\n",
       "      <th>gps_speed</th>\n",
       "      <th>mileage</th>\n",
       "    </tr>\n",
       "  </thead>\n",
       "  <tbody>\n",
       "    <tr>\n",
       "      <th>0</th>\n",
       "      <td>AA00004</td>\n",
       "      <td>AAA9101004</td>\n",
       "      <td>0</td>\n",
       "      <td>115.923130</td>\n",
       "      <td>28.651311</td>\n",
       "      <td>1</td>\n",
       "      <td>0</td>\n",
       "      <td>0</td>\n",
       "      <td>0</td>\n",
       "      <td>0</td>\n",
       "      <td>2018-08-01 00:06:38</td>\n",
       "      <td>0</td>\n",
       "      <td>5559</td>\n",
       "    </tr>\n",
       "    <tr>\n",
       "      <th>1</th>\n",
       "      <td>AA00004</td>\n",
       "      <td>AAA9101004</td>\n",
       "      <td>0</td>\n",
       "      <td>115.923106</td>\n",
       "      <td>28.651248</td>\n",
       "      <td>1</td>\n",
       "      <td>0</td>\n",
       "      <td>0</td>\n",
       "      <td>0</td>\n",
       "      <td>0</td>\n",
       "      <td>2018-08-01 00:06:39</td>\n",
       "      <td>0</td>\n",
       "      <td>5559</td>\n",
       "    </tr>\n",
       "    <tr>\n",
       "      <th>2</th>\n",
       "      <td>AA00004</td>\n",
       "      <td>AAA9101004</td>\n",
       "      <td>0</td>\n",
       "      <td>115.923108</td>\n",
       "      <td>28.651248</td>\n",
       "      <td>1</td>\n",
       "      <td>0</td>\n",
       "      <td>0</td>\n",
       "      <td>0</td>\n",
       "      <td>0</td>\n",
       "      <td>2018-08-01 00:06:40</td>\n",
       "      <td>0</td>\n",
       "      <td>5559</td>\n",
       "    </tr>\n",
       "    <tr>\n",
       "      <th>3</th>\n",
       "      <td>AA00004</td>\n",
       "      <td>AAA9101004</td>\n",
       "      <td>0</td>\n",
       "      <td>115.923110</td>\n",
       "      <td>28.651243</td>\n",
       "      <td>1</td>\n",
       "      <td>0</td>\n",
       "      <td>0</td>\n",
       "      <td>0</td>\n",
       "      <td>0</td>\n",
       "      <td>2018-08-01 00:06:41</td>\n",
       "      <td>0</td>\n",
       "      <td>5559</td>\n",
       "    </tr>\n",
       "  </tbody>\n",
       "</table>\n",
       "</div>"
      ],
      "text/plain": [
       "  vehicleplatenumber  device_num  direction_angle         lng        lat  \\\n",
       "0            AA00004  AAA9101004                0  115.923130  28.651311   \n",
       "1            AA00004  AAA9101004                0  115.923106  28.651248   \n",
       "2            AA00004  AAA9101004                0  115.923108  28.651248   \n",
       "3            AA00004  AAA9101004                0  115.923110  28.651243   \n",
       "\n",
       "   acc_state  right_turn_signals  left_turn_signals  hand_brake  foot_brake  \\\n",
       "0          1                   0                  0           0           0   \n",
       "1          1                   0                  0           0           0   \n",
       "2          1                   0                  0           0           0   \n",
       "3          1                   0                  0           0           0   \n",
       "\n",
       "         location_time  gps_speed  mileage  \n",
       "0  2018-08-01 00:06:38          0     5559  \n",
       "1  2018-08-01 00:06:39          0     5559  \n",
       "2  2018-08-01 00:06:40          0     5559  \n",
       "3  2018-08-01 00:06:41          0     5559  "
      ]
     },
     "execution_count": 7,
     "metadata": {},
     "output_type": "execute_result"
    }
   ],
   "source": [
    "each_vehicle[:4]"
   ]
  },
  {
   "cell_type": "code",
   "execution_count": 14,
   "metadata": {},
   "outputs": [],
   "source": [
    "abnormal_file = []\n",
    "for file in filepath:\n",
    "    print(\"\",end=\"\")\n",
    "    # load data\n",
    "#     each_vehicle = pd.read_csv(file)\n",
    "#     mileage = each_vehicle[\"mileage\"]\n",
    "#     diff = [mileage[i+1]-mileage[i] for i in range(len(mileage)-1)]\n",
    "#     for i in diff:\n",
    "#         if i < 0:\n",
    "#             abnormal_file.append(file)\n",
    "#             print(file)\n",
    "#             break"
   ]
  },
  {
   "cell_type": "code",
   "execution_count": 15,
   "metadata": {},
   "outputs": [
    {
     "ename": "IndexError",
     "evalue": "list index out of range",
     "output_type": "error",
     "traceback": [
      "\u001b[1;31m---------------------------------------------------------------------------\u001b[0m",
      "\u001b[1;31mIndexError\u001b[0m                                Traceback (most recent call last)",
      "\u001b[1;32m<ipython-input-15-398dd9903725>\u001b[0m in \u001b[0;36m<module>\u001b[1;34m\u001b[0m\n\u001b[1;32m----> 1\u001b[1;33m \u001b[0meach_vehicle\u001b[0m \u001b[1;33m=\u001b[0m \u001b[0mpd\u001b[0m\u001b[1;33m.\u001b[0m\u001b[0mread_csv\u001b[0m\u001b[1;33m(\u001b[0m\u001b[0mabnormal_file\u001b[0m\u001b[1;33m[\u001b[0m\u001b[1;36m1\u001b[0m\u001b[1;33m]\u001b[0m\u001b[1;33m)\u001b[0m\u001b[1;33m\u001b[0m\u001b[1;33m\u001b[0m\u001b[0m\n\u001b[0m\u001b[0;32m      2\u001b[0m \u001b[0mmileage\u001b[0m \u001b[1;33m=\u001b[0m \u001b[0meach_vehicle\u001b[0m\u001b[1;33m[\u001b[0m\u001b[1;34m\"mileage\"\u001b[0m\u001b[1;33m]\u001b[0m\u001b[1;33m\u001b[0m\u001b[1;33m\u001b[0m\u001b[0m\n\u001b[0;32m      3\u001b[0m \u001b[0mdiff\u001b[0m \u001b[1;33m=\u001b[0m \u001b[1;33m[\u001b[0m\u001b[0mmileage\u001b[0m\u001b[1;33m[\u001b[0m\u001b[0mi\u001b[0m\u001b[1;33m+\u001b[0m\u001b[1;36m1\u001b[0m\u001b[1;33m]\u001b[0m\u001b[1;33m-\u001b[0m\u001b[0mmileage\u001b[0m\u001b[1;33m[\u001b[0m\u001b[0mi\u001b[0m\u001b[1;33m]\u001b[0m \u001b[1;32mfor\u001b[0m \u001b[0mi\u001b[0m \u001b[1;32min\u001b[0m \u001b[0mrange\u001b[0m\u001b[1;33m(\u001b[0m\u001b[0mlen\u001b[0m\u001b[1;33m(\u001b[0m\u001b[0mmileage\u001b[0m\u001b[1;33m)\u001b[0m\u001b[1;33m-\u001b[0m\u001b[1;36m1\u001b[0m\u001b[1;33m)\u001b[0m\u001b[1;33m]\u001b[0m\u001b[1;33m\u001b[0m\u001b[1;33m\u001b[0m\u001b[0m\n\u001b[0;32m      4\u001b[0m \u001b[1;32mfor\u001b[0m \u001b[0mi\u001b[0m \u001b[1;32min\u001b[0m \u001b[0mdiff\u001b[0m\u001b[1;33m:\u001b[0m\u001b[1;33m\u001b[0m\u001b[1;33m\u001b[0m\u001b[0m\n\u001b[0;32m      5\u001b[0m     \u001b[1;32mif\u001b[0m \u001b[0mi\u001b[0m \u001b[1;33m<\u001b[0m \u001b[1;36m0\u001b[0m\u001b[1;33m:\u001b[0m\u001b[1;33m\u001b[0m\u001b[1;33m\u001b[0m\u001b[0m\n",
      "\u001b[1;31mIndexError\u001b[0m: list index out of range"
     ]
    }
   ],
   "source": [
    "each_vehicle = pd.read_csv(abnormal_file[1])\n",
    "mileage = each_vehicle[\"mileage\"]\n",
    "diff = [mileage[i+1]-mileage[i] for i in range(len(mileage)-1)]\n",
    "for i in diff:\n",
    "    if i < 0:\n",
    "        print(i, + \"|\" + diff.index(i),end=\"\\t\")\n",
    "#         abnormal_file.append(file)"
   ]
  },
  {
   "cell_type": "markdown",
   "metadata": {},
   "source": []
  },
  {
   "cell_type": "code",
   "execution_count": null,
   "metadata": {},
   "outputs": [],
   "source": []
  }
 ],
 "metadata": {
  "kernelspec": {
   "display_name": "Python 3",
   "language": "python",
   "name": "python3"
  },
  "language_info": {
   "codemirror_mode": {
    "name": "ipython",
    "version": 3
   },
   "file_extension": ".py",
   "mimetype": "text/x-python",
   "name": "python",
   "nbconvert_exporter": "python",
   "pygments_lexer": "ipython3",
   "version": "3.7.1"
  }
 },
 "nbformat": 4,
 "nbformat_minor": 2
}
