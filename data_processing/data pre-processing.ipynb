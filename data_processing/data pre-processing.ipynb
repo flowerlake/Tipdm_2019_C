{
 "cells": [
  {
   "cell_type": "code",
   "execution_count": 1,
   "metadata": {},
   "outputs": [],
   "source": [
    "import pandas as pd\n",
    "import numpy as np\n",
    "import os,seaborn\n",
    "from pandas import Series\n",
    "\n",
    "from os.path import join, getsize\n",
    "\n",
    "%matplotlib inline\n",
    "import matplotlib.pyplot as plt\n",
    "\n",
    "import sys"
   ]
  },
  {
   "cell_type": "markdown",
   "metadata": {},
   "source": [
    "## 将路线分段"
   ]
  },
  {
   "cell_type": "code",
   "execution_count": 2,
   "metadata": {},
   "outputs": [
    {
     "name": "stdout",
     "output_type": "stream",
     "text": [
      "../data/attachment_1_100/AD00021.csv\t../data/attachment_1_100/AD00009.csv\t../data/attachment_1_100/AD00141.csv\n"
     ]
    }
   ],
   "source": [
    "# 获取附件一中的所有文件路径\n",
    "filepath = np.array([])\n",
    "for root, dirs, files in os.walk('../data/attachment_1_100/'):\n",
    "    filepath = np.concatenate((filepath,np.array([join(root, name) for name in files])))\n",
    "print(\"\\t\".join(filepath[:3]))"
   ]
  },
  {
   "cell_type": "code",
   "execution_count": null,
   "metadata": {},
   "outputs": [],
   "source": [
    "# 加载数据\n",
    "\n",
    "j = 1\n",
    "vehicle = pd.read_csv(filepath[j])\n",
    "\n",
    "vehicle['location_time'] = pd.to_datetime(vehicle['location_time'])\n",
    "\n",
    "# 计算时间戳的间隔\n",
    "time_diff = np.diff(vehicle[\"location_time\"])/np.timedelta64(1, 's')\n",
    "time_diff = np.append(time_diff,0)\n",
    "\n",
    "vehicle['time_diff'] = time_diff \n",
    "\n",
    "# 筛选出时间戳间隔大于5min的索引项\n",
    "big_diff = (vehicle[vehicle['time_diff']>300].index + 1).tolist()\n",
    "\n",
    "print(big_diff)"
   ]
  },
  {
   "cell_type": "code",
   "execution_count": null,
   "metadata": {},
   "outputs": [],
   "source": [
    "# 根据索引项将数据文件分段\n",
    "filename = filepath[j].split(\"/\")[-1].split(\".\")[0]\n",
    "\n",
    "vehicle[:big_diff[0]].to_csv(\"data/process_file/\" + filename + \"_0.csv\")\n",
    "\n",
    "for i in range(len(big_diff)-1):\n",
    "    vehicle[big_diff[i]:big_diff[i+1]].to_csv(\"data/process_file/\"+ filename + \"_\" + str(i+1) +\".csv\")\n",
    "vehicle[big_diff[-1]:].to_csv(\"data/process_file/\" + filename + \"_\"+ str(len(big_diff)) +\".csv\")"
   ]
  },
  {
   "cell_type": "markdown",
   "metadata": {},
   "source": [
    "- - - "
   ]
  },
  {
   "cell_type": "markdown",
   "metadata": {},
   "source": [
    "## 速度差值、方位角角度分析"
   ]
  },
  {
   "cell_type": "code",
   "execution_count": 32,
   "metadata": {},
   "outputs": [
    {
     "name": "stdout",
     "output_type": "stream",
     "text": [
      "data/correct_point/AA00004_2.csv\tdata/correct_point/AA00004_3.csv\tdata/correct_point/AA00004_1.csv\n"
     ]
    }
   ],
   "source": [
    "# 获取分段后的所有文件路径\n",
    "filepaths = np.array([])\n",
    "for root, dirs, files in os.walk('data/correct_point/'):\n",
    "    filepaths = np.concatenate((filepaths,np.array([join(root, name) for name in files])))\n",
    "print(\"\\t\".join(filepaths[:3]))"
   ]
  },
  {
   "cell_type": "code",
   "execution_count": 33,
   "metadata": {},
   "outputs": [
    {
     "data": {
      "text/plain": [
       "array(['data/correct_point/AA00004_2.csv',\n",
       "       'data/correct_point/AA00004_3.csv',\n",
       "       'data/correct_point/AA00004_1.csv',\n",
       "       'data/correct_point/AA00004_0.csv',\n",
       "       'data/correct_point/AA00004_4.csv',\n",
       "       'data/correct_point/AA00004_5.csv',\n",
       "       'data/correct_point/AA00004_7.csv',\n",
       "       'data/correct_point/AA00004_6.csv',\n",
       "       'data/correct_point/AA00004_12.csv',\n",
       "       'data/correct_point/AA00004_13.csv',\n",
       "       'data/correct_point/AA00004_11.csv',\n",
       "       'data/correct_point/AA00004_10.csv',\n",
       "       'data/correct_point/AA00004_14.csv',\n",
       "       'data/correct_point/AA00004_8.csv.csv',\n",
       "       'data/correct_point/AA00004_8.csv',\n",
       "       'data/correct_point/AA00004_9.csv'], dtype='<U36')"
      ]
     },
     "execution_count": 33,
     "metadata": {},
     "output_type": "execute_result"
    }
   ],
   "source": [
    "filepaths"
   ]
  },
  {
   "cell_type": "code",
   "execution_count": null,
   "metadata": {},
   "outputs": [],
   "source": [
    "all_distance = np.array([[0,0]])\n",
    "# for j in range(len(filepath)):\n",
    "\n",
    "j=1\n",
    "\n",
    "# direction_angle_diff是用来存放方位角差值的列表\n",
    "direction_angle_diff = []\n",
    "\n",
    "vehicle = pd.read_csv(filepath[j])\n",
    "\n",
    "\n",
    "for i in range(len(vehicle)-1):\n",
    "\n",
    "    # tmp = [speed_diff, direction, index]\n",
    "    tmp = []\n",
    "    tmp.append(vehicle.iloc[i+1][\"gps_speed\"]-vehicle.iloc[i][\"gps_speed\"])\n",
    "\n",
    "    if vehicle.iloc[i][\"direction_angle\"] > 300 and vehicle.iloc[i+1][\"direction_angle\"] < 100:\n",
    "        # 从左向右转，为负\n",
    "        tmp.append(vehicle.iloc[i][\"direction_angle\"]-vehicle.iloc[i+1][\"direction_angle\"]-360)\n",
    "    elif vehicle.iloc[i+1][\"direction_angle\"] > 300 and vehicle.iloc[i][\"direction_angle\"] < 100:\n",
    "        # 从右向左转，为正\n",
    "        tmp.append(vehicle.iloc[i][\"direction_angle\"]+360-vehicle.iloc[i+1][\"direction_angle\"])\n",
    "    else:\n",
    "        tmp.append(vehicle.iloc[i+1][\"direction_angle\"]-vehicle.iloc[i][\"direction_angle\"])\n",
    "\n",
    "    tmp.append(i)\n",
    "\n",
    "    direction_angle_diff.append(tmp)\n",
    "\n",
    "point_distance = remove_drift_point(direction_angle_diff,vehicle)\n",
    "if np.array(point_distance).size == 0:\n",
    "    all_distance = np.concatenate((all_distance,np.array(point_distance)))\n",
    "print(\"game over：{}\".format(j))\n",
    "\n",
    "all_distance = np.delete(all_distance,0,axis=0)"
   ]
  },
  {
   "cell_type": "code",
   "execution_count": null,
   "metadata": {
    "scrolled": true
   },
   "outputs": [],
   "source": [
    "# Set the global default size of matplotlib figures\n",
    "plt.rc('figure', figsize=(20, 10))\n",
    "# Set seaborn aesthetic parameters to defaults\n",
    "seaborn.set()\n",
    "    \n",
    "plt.scatter(range(len(direction_angle_diff)),[item[0] for item in direction_angle_diff])\n",
    "plt.scatter(range(len(direction_angle_diff)),[item[1] for item in direction_angle_diff])\n",
    "plt.ylabel(\"Data index\")\n",
    "plt.xlabel(\"Azimuth difference\")\n",
    "\n",
    "# plt.savefig(\"../image/azimuth_speed_diff/\" + filepath[j].split(\"/\")[-1].split(\".\")[0] + \".jpg\")\n",
    "plt.show()\n",
    "plt.close()"
   ]
  },
  {
   "cell_type": "markdown",
   "metadata": {},
   "source": [
    "### 单个车辆单线路的速度分布"
   ]
  },
  {
   "cell_type": "code",
   "execution_count": null,
   "metadata": {},
   "outputs": [],
   "source": [
    "from collections import Counter\n",
    "\n",
    "speed = dict(Counter([i[0] for i in direction_angle_diff]))\n",
    "\n",
    "\n",
    "# Set the global default size of matplotlib figures\n",
    "plt.rc('figure', figsize=(10, 5))\n",
    "# Set seaborn aesthetic parameters to defaults\n",
    "seaborn.set()\n",
    "    \n",
    "plt.scatter(speed.keys(),speed.values())\n",
    "plt.ylabel(\"Data index\")\n",
    "plt.xlabel(\"Azimuth difference\")\n",
    "\n",
    "# plt.savefig(\"../image/azimuth_speed_diff/\" + filepath[j].split(\"/\")[-1].split(\".\")[0] + \".jpg\")\n",
    "plt.show()\n",
    "plt.close()"
   ]
  },
  {
   "cell_type": "code",
   "execution_count": null,
   "metadata": {
    "scrolled": true
   },
   "outputs": [],
   "source": [
    "len(direction_angle_diff)"
   ]
  },
  {
   "cell_type": "markdown",
   "metadata": {},
   "source": [
    "### 将这些点进行均值处理"
   ]
  },
  {
   "cell_type": "code",
   "execution_count": null,
   "metadata": {},
   "outputs": [],
   "source": [
    "def remove_drift_point(azimuth_difference,each_vehicle):\n",
    "    may_drift_point = []\n",
    "    for speed,azimuth,index in azimuth_difference:\n",
    "        # 如果方位角的差值大于50，即认为该点属于漂移点，那么就将其进行修改后保存到correct_drift_point文件夹中\n",
    "        if (speed > 90):\n",
    "            point_distance = haversine(each_vehicle.iloc[index][\"lng\"],each_vehicle.iloc[index][\"lat\"],\n",
    "                                       each_vehicle.iloc[index+1][\"lng\"],each_vehicle.iloc[index+1][\"lat\"])\n",
    "            may_drift_point.append((index,point_distance))\n",
    "    return may_drift_point"
   ]
  },
  {
   "cell_type": "code",
   "execution_count": null,
   "metadata": {},
   "outputs": [],
   "source": [
    "# Set the global default size of matplotlib figures\n",
    "plt.rc('figure', figsize=(20, 10))\n",
    "# Set seaborn aesthetic parameters to defaults\n",
    "seaborn.set()\n",
    "\n",
    "plt.scatter(range(len(direction_angle_diff)),[item[1] for item in direction_angle_diff])\n",
    "# plt.scatter(range(len(direction_angle_diff)),[item[1] for item in direction_angle_diff])\n",
    "plt.ylabel(\"Data index\")\n",
    "plt.xlabel(\"Azimuth difference\")\n",
    "# plt.savefig(\"../image/direction_speed_diff/\" + filepath[j].split(\"/\")[-1].split(\".\")[0] + \".jpg\")\n",
    "plt.show()\n",
    "plt.close()"
   ]
  },
  {
   "cell_type": "markdown",
   "metadata": {},
   "source": [
    "- - - "
   ]
  },
  {
   "cell_type": "code",
   "execution_count": 5,
   "metadata": {},
   "outputs": [],
   "source": [
    "### 统计空缺值\n",
    "\n",
    "def find_missing_point(part_vehicle):\n",
    "    \"\"\"\n",
    "    param:\n",
    "        part_vehicle: a dataframe of vehicle,which contains (location_time,lng,lat) filed.\n",
    "    return:\n",
    "        res: complete point dataframe.\n",
    "        lng_lat: 2-dimension numpy array.\n",
    "        nan_index: missing data index in lng_lat(2-dimension numpy array.)\n",
    "    \"\"\"\n",
    "    part_vehicle['location_time'] = pd.to_datetime(part_vehicle['location_time'])\n",
    "\n",
    "    grouper = pd.Grouper(key='location_time', freq='1s')\n",
    "\n",
    "    # res为补完点后的dataframe\n",
    "    res = part_vehicle.groupby(grouper).first().reset_index()\n",
    "    \n",
    "    \n",
    "    lng_lat = res[['lng','lat']].values\n",
    "    isnull_state = np.isnan(lng_lat)\n",
    "    nan_index = np.array(sorted(list(set(np.where(isnull_state)[0]))))\n",
    "    \n",
    "    return res,nan_index,lng_lat"
   ]
  },
  {
   "cell_type": "code",
   "execution_count": 34,
   "metadata": {},
   "outputs": [
    {
     "name": "stdout",
     "output_type": "stream",
     "text": [
      "data/correct_point/AA00004_2.csv\tdata/correct_point/AA00004_3.csv\tdata/correct_point/AA00004_1.csv\n",
      "=======ready to KalmanSmoothing=======\n",
      "No.AA00004_2.csv vehivle missing point number: 0\n",
      "=======ready to KalmanSmoothing=======\n",
      "No.AA00004_3.csv vehivle missing point number: 0\n",
      "=======ready to KalmanSmoothing=======\n",
      "No.AA00004_1.csv vehivle missing point number: 0\n",
      "=======ready to KalmanSmoothing=======\n",
      "No.AA00004_0.csv vehivle missing point number: 0\n",
      "=======ready to KalmanSmoothing=======\n",
      "No.AA00004_4.csv vehivle missing point number: 0\n",
      "=======ready to KalmanSmoothing=======\n",
      "No.AA00004_5.csv vehivle missing point number: 0\n",
      "=======ready to KalmanSmoothing=======\n",
      "No.AA00004_7.csv vehivle missing point number: 0\n",
      "=======ready to KalmanSmoothing=======\n",
      "No.AA00004_6.csv vehivle missing point number: 0\n",
      "=======ready to KalmanSmoothing=======\n",
      "No.AA00004_12.csv vehivle missing point number: 0\n",
      "=======ready to KalmanSmoothing=======\n",
      "No.AA00004_13.csv vehivle missing point number: 0\n",
      "=======ready to KalmanSmoothing=======\n",
      "No.AA00004_11.csv vehivle missing point number: 0\n",
      "=======ready to KalmanSmoothing=======\n",
      "No.AA00004_10.csv vehivle missing point number: 0\n",
      "=======ready to KalmanSmoothing=======\n",
      "No.AA00004_14.csv vehivle missing point number: 0\n",
      "=======ready to KalmanSmoothing=======\n",
      "No.AA00004_8.csv.csv vehivle missing point number: 0\n",
      "=======ready to KalmanSmoothing=======\n",
      "No.AA00004_8.csv vehivle missing point number: 0\n",
      "=======ready to KalmanSmoothing=======\n",
      "No.AA00004_9.csv vehivle missing point number: 0\n",
      "time spent：3.5e+02s\n"
     ]
    }
   ],
   "source": [
    "from time import time\n",
    "from pykalman import KalmanFilter\n",
    "\n",
    "# 获取分段后的所有文件路径\n",
    "filepaths = np.array([])\n",
    "for root, dirs, files in os.walk('data/correct_point/'):\n",
    "    filepaths = np.concatenate((filepaths,np.array([join(root, name) for name in files])))\n",
    "print(\"\\t\".join(filepaths[:3]))\n",
    "\n",
    "number = 0\n",
    "start_time = time()\n",
    "\n",
    "for j in range(len(filepaths)):\n",
    "\n",
    "\n",
    "    filepath = filepaths[j]\n",
    "\n",
    "\n",
    "    remove_vehicle = pd.read_csv(filepath)\n",
    "\n",
    "    complete_vehicle,error_index,lng_lat = find_missing_point(remove_vehicle)\n",
    "    \n",
    "    print(\"=======ready to KalmanSmoothing=======\")\n",
    "    power_point = kalman_em_smoothing(lng_lat,error_index)\n",
    "\n",
    "    # 写入到文件中\n",
    "    complete_vehicle[['lng','lat']] = power_point\n",
    "    \n",
    "    complete_vehicle,error_index,lng_lat = find_missing_point(complete_vehicle)\n",
    "    number = number + len(error_index)\n",
    "\n",
    "    filename = filepath.split(\"/\")[-1].split(\":\")[0]\n",
    "    print(\"No.{} vehivle missing point number: {}\".format(filename,number))\n",
    "    \n",
    "    complete_vehicle.to_csv(\"data/correct_point/\" + filename)\n",
    "    \n",
    "stop_time = time()\n",
    "print(\"time spent：{:.2}s\".format(stop_time-start_time))"
   ]
  },
  {
   "cell_type": "markdown",
   "metadata": {},
   "source": [
    "### 利用经纬度坐标来判断离群点"
   ]
  },
  {
   "cell_type": "code",
   "execution_count": 2,
   "metadata": {},
   "outputs": [],
   "source": [
    "from math import radians, cos, sin, asin, sqrt\n",
    " \n",
    "def haversine(lon1, lat1, lon2, lat2): # 经度1，纬度1，经度2，纬度2 （十进制度数）\n",
    "    \"\"\"\n",
    "    Calculate the great circle distance between two points \n",
    "    on the earth (specified in decimal degrees)\n",
    "    \"\"\"\n",
    "    # 将十进制度数转化为弧度\n",
    "    lon1, lat1, lon2, lat2 = map(radians, [lon1, lat1, lon2, lat2])\n",
    " \n",
    "    # haversine公式\n",
    "    dlon = lon2 - lon1 \n",
    "    dlat = lat2 - lat1 \n",
    "    a = sin(dlat/2)**2 + cos(lat1) * cos(lat2) * sin(dlon/2)**2\n",
    "    c = 2 * asin(sqrt(a)) \n",
    "    r = 6371.393 # 地球平均半径，单位为公里\n",
    "    return c * r * 1000"
   ]
  },
  {
   "cell_type": "code",
   "execution_count": 3,
   "metadata": {},
   "outputs": [],
   "source": [
    "def calculate_distance(filepath):\n",
    "    \"\"\"\n",
    "    param:\n",
    "        filepath: filepath of processing file.\n",
    "    return:\n",
    "        distance: distance of two point in this file.(a 3-D numpy array. length of array is length of dataframe-1)\n",
    "                  distance = (filename, index, distance)\n",
    "    \"\"\"\n",
    "    vehicle = pd.read_csv(filepath)\n",
    "    filename = filepath.split(\"/\")[-1].split(\".\")[0]\n",
    "    \n",
    "    distance = [(filename,i,haversine(vehicle.iloc[i+1][\"lng\"],vehicle.iloc[i+1][\"lat\"],\n",
    "                                                 vehicle.iloc[i][\"lng\"],vehicle.iloc[i][\"lat\"])) for i in range(len(vehicle)-1)]\n",
    "\n",
    "    return distance"
   ]
  },
  {
   "cell_type": "code",
   "execution_count": 12,
   "metadata": {},
   "outputs": [],
   "source": [
    "def remove_drift_point(filepath,point_distance):\n",
    "    \"\"\"\n",
    "    param:\n",
    "        filepath: filepath of processing file.\n",
    "        point_distance: distance of two adjacent point.(1-D numpy array)\n",
    "    return:\n",
    "        test_vehicle: processed vehcile data.(a dataframe which have made the drift point np.nan)\n",
    "        filename: filename(string)\n",
    "    \"\"\"\n",
    "    test_vehicle = pd.read_csv(filepath)\n",
    "    lng_lat = test_vehicle[['lng','lat']].values\n",
    "\n",
    "    # 得到距离大于50m的漂移点\n",
    "    error_index = []\n",
    "    for name,index,distance in point_distance:\n",
    "        # 筛选出一秒间距大于50m的点\n",
    "        if distance > 50:\n",
    "            lng_lat[index] = np.nan\n",
    "            error_index.append(index)\n",
    "\n",
    "    filename = filepath.split(\"/\")[-1].split(\".\")[0]\n",
    "    \n",
    "    test_vehicle[['lng','lat']] = lng_lat\n",
    "    \n",
    "    return test_vehicle,filename"
   ]
  },
  {
   "cell_type": "markdown",
   "metadata": {},
   "source": [
    "### 补点"
   ]
  },
  {
   "cell_type": "code",
   "execution_count": 22,
   "metadata": {},
   "outputs": [],
   "source": [
    "def add_point(part_vehicle):\n",
    "    \"\"\"\n",
    "    param:\n",
    "        part_vehicle: a dataframe of vehicle,which contains (location_time,lng,lat) filed.\n",
    "    return:\n",
    "        res: complete point dataframe.\n",
    "        lng_lat: 2-dimension numpy array.\n",
    "        nan_index: missing data index in lng_lat(2-dimension numpy array.)\n",
    "    \"\"\"\n",
    "    part_vehicle['location_time'] = pd.to_datetime(part_vehicle['location_time'])\n",
    "\n",
    "    grouper = pd.Grouper(key='location_time', freq='1s')\n",
    "\n",
    "    # res为补完点后的dataframe\n",
    "    res = part_vehicle.groupby(grouper).first().reset_index()\n",
    "    \n",
    "    \n",
    "    lng_lat = res[['lng','lat']].values\n",
    "    isnull_state = np.isnan(lng_lat)\n",
    "    nan_index = np.array(sorted(list(set(np.where(isnull_state)[0]))))\n",
    "    \n",
    "    return res,nan_index,lng_lat"
   ]
  },
  {
   "cell_type": "markdown",
   "metadata": {},
   "source": [
    "### 尝试使用kalman算法进行补点及光滑线路"
   ]
  },
  {
   "cell_type": "code",
   "execution_count": 16,
   "metadata": {},
   "outputs": [],
   "source": [
    "def kalman_em_smoothing(lng_lat,masked_index):\n",
    "    \"\"\"\n",
    "    param：\n",
    "        lng_lat: a 2-dimension numpy array.(longitude,latitude)\n",
    "        masked_index: the index of missing point in lng_lat array\n",
    "    return:\n",
    "        lng and lat of correct point.(a 2-dimension numpy array) \n",
    "    \"\"\"\n",
    "    lng_lat_missing = np.ma.array(lng_lat, mask=np.zeros(lng_lat.shape))\n",
    "        \n",
    "    for i in masked_index:\n",
    "        lng_lat_missing[i] = np.ma.masked\n",
    "\n",
    "    # specify parameters\n",
    "    observation_matrix = np.array([lng_lat[0],lng_lat[-1]])\n",
    "\n",
    "    initial_state_mean = lng_lat[0]\n",
    "    n_timesteps = 50\n",
    "\n",
    "    kf = KalmanFilter(initial_state_mean=initial_state_mean,n_dim_obs=2)\n",
    "\n",
    "    correct_point = kf.em(lng_lat_missing).smooth(lng_lat_missing)[0]\n",
    "    \n",
    "    return correct_point"
   ]
  },
  {
   "cell_type": "markdown",
   "metadata": {},
   "source": [
    "### 将其他字段进行填充"
   ]
  },
  {
   "cell_type": "code",
   "execution_count": 120,
   "metadata": {},
   "outputs": [],
   "source": [
    "def complete_other_filed(res):\n",
    "    \"\"\"\n",
    "    param:\n",
    "        res: a dataframe.\n",
    "    return:\n",
    "        res: a dataframe with completed data item\n",
    "    \"\"\"\n",
    "    gps_speed = res['gps_speed'].values\n",
    "    other_filed = res[['vehicleplatenumber','device_num','direction_angle','acc_state','right_turn_signals',\n",
    "                     'left_turn_signals','hand_brake','foot_brake','mileage']].values\n",
    "    \n",
    "    isnull_state = np.isnan(gps_speed)\n",
    "    nan_index = np.array(sorted(list(set(np.where(isnull_state)[0]))))\n",
    "\n",
    "    for i in nan_index:\n",
    "        other_filed[i] = other_filed[i-1]\n",
    "        if np.isnan(gps_speed[i+1]):\n",
    "            gps_speed[i] = gps_speed[i-1]\n",
    "        else:\n",
    "            gps_speed[i] = np.mean([gps_speed[i-1],gps_speed[i+1]],axis=0)\n",
    "    \n",
    "    res['gps_speed'] = gps_speed\n",
    "    res[['vehicleplatenumber','device_num','direction_angle','acc_state','right_turn_signals',\n",
    "                     'left_turn_signals','hand_brake','foot_brake','mileage']] = other_filed\n",
    "    \n",
    "    return res"
   ]
  },
  {
   "cell_type": "code",
   "execution_count": 23,
   "metadata": {},
   "outputs": [
    {
     "name": "stdout",
     "output_type": "stream",
     "text": [
      "=======ready to KalmanSmoothing=======\n",
      "time spent：0.3252599239349365s\n"
     ]
    }
   ],
   "source": [
    "from time import time\n",
    "from pykalman import KalmanFilter\n",
    "\n",
    "# filepath = 'data/correct_point/AA00004_0.csv'\n",
    "for j in range(1):\n",
    "    \n",
    "    filepath = filepaths[-2]\n",
    "    start_time = time()\n",
    "\n",
    "    point_distance = calculate_distance(filepath)\n",
    "\n",
    "    remove_vehicle,filename = remove_drift_point(filepath,point_distance)\n",
    "\n",
    "    complete_vehicle,error_index,lng_lat = add_point(remove_vehicle)\n",
    "\n",
    "    complete_vehicle = complete_other_filed(complete_vehicle)\n",
    "\n",
    "    print(\"=======ready to KalmanSmoothing=======\")\n",
    "    power_point = kalman_em_smoothing(lng_lat,error_index)\n",
    "\n",
    "    stop_time = time()\n",
    "    print(\"time spent：{}s\".format(stop_time-start_time))\n",
    "\n",
    "    # 写入到文件中\n",
    "    complete_vehicle[['lng','lat']] = power_point\n",
    "    complete_vehicle.to_csv(\"data/correct_point/\" + filename + \".csv\")"
   ]
  },
  {
   "cell_type": "code",
   "execution_count": 77,
   "metadata": {},
   "outputs": [
    {
     "data": {
      "image/png": "[encoded data removed]",
      "text/plain": [
       "<Figure size 1440x720 with 1 Axes>"
      ]
     },
     "metadata": {},
     "output_type": "display_data"
    }
   ],
   "source": [
    "plt.rc('figure', figsize=(20, 10))\n",
    "seaborn.set()\n",
    "\n",
    "# plt.scatter(lng_lat[:,0],lng_lat[:,1],c='b')\n",
    "plt.plot(power_point[:,0],power_point[:,1],c='r')\n",
    "\n",
    "plt.title(\"Partial Track Image After Correction\", fontsize=20)\n",
    "plt.xlabel(\"Longitude\",fontsize=17)\n",
    "plt.ylabel(\"Latitude\",fontsize=17)\n",
    "plt.savefig(\"image/distance_image_after/\" + filepath.split(\"/\")[-1].split(\".\")[0] + \".jpg\")\n",
    "plt.show()\n",
    "plt.close()"
   ]
  },
  {
   "cell_type": "code",
   "execution_count": 90,
   "metadata": {},
   "outputs": [
    {
     "name": "stdout",
     "output_type": "stream",
     "text": [
      "data/correct_point/AA00004_0.csv\tdata/correct_point/AA00004_1.csv\tdata/correct_point/AA00004_10.csv\n"
     ]
    },
    {
     "data": {
      "image/png": "[encoded data removed]",
      "text/plain": [
       "<Figure size 1440x720 with 1 Axes>"
      ]
     },
     "metadata": {},
     "output_type": "display_data"
    }
   ],
   "source": [
    "# 获取分段后的所有文件路径\n",
    "filepath = np.array([])\n",
    "for root, dirs, files in os.walk('data/correct_point/'):\n",
    "    filepath = np.concatenate((filepath,np.array([join(root, name) for name in files])))\n",
    "print(\"\\t\".join(filepath[:3]))\n",
    "\n",
    "plt.rc('figure', figsize=(20, 10))\n",
    "seaborn.set()\n",
    "    \n",
    "for j in range(len(filepath)):\n",
    "    eeee1 = pd.read_csv(filepath[j])\n",
    "    eres1 = eeee1[['lng','lat']].values\n",
    "    \n",
    "    plt.plot(eres1[:,0],eres1[:,1])\n",
    "\n",
    "    # plt.savefig(\"image/distance_image5_before/\" + filepath.split(\"/\")[-1].split(\".\")[0] + \".jpg\")\n",
    "\n",
    "plt.title(\"Partial Track Image Before Correction\", fontsize=20)\n",
    "plt.xlabel(\"Longitude\",fontsize=17)\n",
    "plt.ylabel(\"Latitude\",fontsize=17)\n",
    "plt.show()"
   ]
  },
  {
   "cell_type": "markdown",
   "metadata": {},
   "source": [
    "#### 对重复项去重，并保留第一个出现的项"
   ]
  },
  {
   "cell_type": "code",
   "execution_count": null,
   "metadata": {},
   "outputs": [],
   "source": [
    "vehicle_tmp2 = vehicle.drop_duplicates(['lng','lat'],inplace=False)\n",
    "vehicle_tmp2.to_csv(\"data/\" + filepath[j].split(\"/\")[-1].split(\".\")[0] + \".csv\")"
   ]
  },
  {
   "cell_type": "markdown",
   "metadata": {},
   "source": [
    "### 对数据进行测试"
   ]
  },
  {
   "cell_type": "code",
   "execution_count": null,
   "metadata": {},
   "outputs": [],
   "source": [
    "# vehicle_test = pd.read_csv(\"../data/attachment_1_100/AA00001.csv\")\n",
    "vehicle_test = pd.read_csv(\"data/process_file/AA00004_0.csv\")\n",
    "\n",
    "vehicle_test_array = vehicle_test[[\"location_time\",\"gps_speed\"]].values\n",
    "\n",
    "time = pd.to_datetime(vehicle_test[vehicle_test['gps_speed']!=0]['location_time'])\n",
    "\n",
    "speed = vehicle_test[vehicle_test['gps_speed']!=0]['gps_speed']\n",
    "# speed = [i for i in vehicle_test['gps_speed'].tolist() if i !=0]\n",
    "\n",
    "\n",
    "# Set the global default size of matplotlib figures\n",
    "plt.rc('figure', figsize=(20, 10))\n",
    "\n",
    "# Set seaborn aesthetic parameters to defaults\n",
    "seaborn.set()\n",
    "\n",
    "plt.plot(time,speed,scalex=True)\n",
    "\n",
    "plt.title(\"Gps Speed Distribution\", fontsize=20)\n",
    "plt.xlabel(\"location_time\",fontsize=17)\n",
    "plt.ylabel(\"gps_speed\",fontsize=17)\n",
    "\n",
    "# plt.savefig(\"image/distance_image_after/\" + filepath[j].split(\"/\")[-1].split(\".\")[0] + \"_after.jpg\")\n",
    "plt.show()\n",
    "plt.close()"
   ]
  },
  {
   "cell_type": "code",
   "execution_count": 133,
   "metadata": {},
   "outputs": [
    {
     "name": "stdout",
     "output_type": "stream",
     "text": [
      "data/correct_point/AA00004_0.csv\tdata/correct_point/AA00004_1.csv\tdata/correct_point/AA00004_10.csv\n",
      "d \t 88 \t 68.0\n",
      "a \t 713 \t 80.0\n",
      "/ \t 4731 \t 94.0\n",
      "r \t 9 \t 55.0\n",
      "r \t 4918 \t 91.0\n",
      "c \t 5057 \t 92.0\n",
      "t \t 65 \t 58.0\n",
      "_ \t 1 \t 51.0\n",
      "p \t 4890 \t 97.0\n"
     ]
    }
   ],
   "source": [
    "# 获取分段后的所有文件路径\n",
    "filepaths = np.array([])\n",
    "for root, dirs, files in os.walk('data/correct_point/'):\n",
    "    filepaths = np.concatenate((filepaths,np.array([join(root, name) for name in files])))\n",
    "print(\"\\t\".join(filepaths[:3]))\n",
    "\n",
    "max_speed = np.array([])\n",
    "for j in range(len(filepaths)):\n",
    "    vehicle_test = pd.read_csv(filepaths[j])\n",
    "    vehicle_speed = vehicle_test[vehicle_test['gps_speed']>50]['gps_speed']\n",
    "    max_speed = np.concatenate((max_speed,np.array(vehicle_speed)))\n",
    "    if len(vehicle_speed) > 0:\n",
    "        print(filepath[j],\"\\t\",len(vehicle_speed),\"\\t\",max(vehicle_speed))"
   ]
  },
  {
   "cell_type": "code",
   "execution_count": null,
   "metadata": {},
   "outputs": [],
   "source": [
    "from collections import Counter\n",
    "Counter(max_speed)"
   ]
  },
  {
   "cell_type": "markdown",
   "metadata": {},
   "source": [
    "- - -"
   ]
  },
  {
   "cell_type": "markdown",
   "metadata": {},
   "source": [
    "### Main:利用经纬度坐标计算行车里程。"
   ]
  },
  {
   "cell_type": "code",
   "execution_count": 107,
   "metadata": {},
   "outputs": [
    {
     "name": "stdout",
     "output_type": "stream",
     "text": [
      "Total mileage：700.993km\n"
     ]
    }
   ],
   "source": [
    "all_point_distance = np.array([[0,0,0]])\n",
    "\n",
    "for j in range(len(filepath)):\n",
    "\n",
    "    vehicle = pd.read_csv(filepath[j])\n",
    "\n",
    "    filename = filepath[j].split(\"/\")[-1].split(\".\")[0]\n",
    "    \n",
    "    distance = [(filename,i,haversine(vehicle.iloc[i+1][\"lng\"],vehicle.iloc[i+1][\"lat\"],\n",
    "                                                 vehicle.iloc[i][\"lng\"],vehicle.iloc[i][\"lat\"])) for i in range(len(vehicle)-1)]\n",
    "    \n",
    "    sum_distance = sum(all_point_distance[:,2].astype('float'))\n",
    "    print(\"{}'s mileage：{:.3f}km\".format(filename,sum_distance/1000))\n",
    "    all_point_distance = np.concatenate((all_point_distance,distance))\n",
    "    \n",
    "\n",
    "all_point_distance = np.delete(all_point_distance,0,axis=0)\n",
    "\n",
    "# 每秒最大的距离\n",
    "# max_distance_mil = max(list(set(vehicle[\"gps_speed\"])))/3.6\n",
    "\n",
    "sum_distance = sum(all_point_distance[:,2].astype('float'))\n",
    "print(\"Total mileage：{:.3f}km\".format(sum_distance/1000))"
   ]
  }
 ],
 "metadata": {
  "kernelspec": {
   "display_name": "Python 3",
   "language": "python",
   "name": "python3"
  },
  "language_info": {
   "codemirror_mode": {
    "name": "ipython",
    "version": 3
   },
   "file_extension": ".py",
   "mimetype": "text/x-python",
   "name": "python",
   "nbconvert_exporter": "python",
   "pygments_lexer": "ipython3",
   "version": "3.7.3"
  }
 },
 "nbformat": 4,
 "nbformat_minor": 2
}
